{
 "cells": [
  {
   "cell_type": "markdown",
   "id": "e132be6e",
   "metadata": {},
   "source": [
    "# Data Science Tools and Ecosystem\n"
   ]
  },
  {
   "cell_type": "markdown",
   "id": "5994cf5c",
   "metadata": {},
   "source": [
    "In this notebook, Data Science Tools and Ecosystem are summarized."
   ]
  },
  {
   "cell_type": "markdown",
   "id": "df6e5227",
   "metadata": {},
   "source": [
    "Some of the popular languages that Data Scientists use are:"
   ]
  },
  {
   "cell_type": "markdown",
   "id": "fbe8cbbf",
   "metadata": {},
   "source": [
    "1. Java\n",
    "2. Python\n",
    "3. SQL\n",
    "4. R\n"
   ]
  },
  {
   "cell_type": "markdown",
   "id": "d0f10609",
   "metadata": {},
   "source": [
    "Some of the commonly used libraries by Data Scientists include:"
   ]
  },
  {
   "cell_type": "markdown",
   "id": "a77cb527",
   "metadata": {},
   "source": [
    "- Pandas\n",
    "- NumPy\n",
    "- Matplotlib\n",
    "- TensorFlow"
   ]
  },
  {
   "cell_type": "markdown",
   "id": "bf75b540",
   "metadata": {},
   "source": [
    "| Data Science Tools |\n",
    "| ------------------ |\n",
    "| jupyter notebook   |\n",
    "| R Studio           |\n",
    "| Spyder             |"
   ]
  },
  {
   "cell_type": "markdown",
   "id": "3dad340e",
   "metadata": {},
   "source": [
    "### Below are a few examples of evaluating arithmetic expressions in Python"
   ]
  },
  {
   "cell_type": "code",
   "execution_count": 8,
   "id": "aa0ddf9e",
   "metadata": {},
   "outputs": [
    {
     "data": {
      "text/plain": [
       "17"
      ]
     },
     "execution_count": 8,
     "metadata": {},
     "output_type": "execute_result"
    }
   ],
   "source": [
    "# This is a simple arithmetic expression to multiply then add integers\n",
    "\n",
    "(3*4)+5"
   ]
  },
  {
   "cell_type": "code",
   "execution_count": 9,
   "id": "4bb4948b",
   "metadata": {},
   "outputs": [
    {
     "data": {
      "text/plain": [
       "3.3333333333333335"
      ]
     },
     "execution_count": 9,
     "metadata": {},
     "output_type": "execute_result"
    }
   ],
   "source": [
    "# This will convert 200 minutes to hours by dividing by 60\n",
    "\n",
    "200/60"
   ]
  },
  {
   "cell_type": "markdown",
   "id": "e2a65da1",
   "metadata": {},
   "source": [
    "**Objectives:**\n",
    "- List popular languages for Data Science\n",
    "- List the commonly used libraries for Data Science\n",
    "- Create a table of Data Science tools "
   ]
  },
  {
   "cell_type": "markdown",
   "id": "f7f1a7ac",
   "metadata": {},
   "source": [
    "## Author\n",
    "\n",
    "Asha"
   ]
  },
  {
   "cell_type": "code",
   "execution_count": null,
   "id": "6be0e3d7",
   "metadata": {},
   "outputs": [],
   "source": []
  }
 ],
 "metadata": {
  "kernelspec": {
   "display_name": "Python 3 (ipykernel)",
   "language": "python",
   "name": "python3"
  },
  "language_info": {
   "codemirror_mode": {
    "name": "ipython",
    "version": 3
   },
   "file_extension": ".py",
   "mimetype": "text/x-python",
   "name": "python",
   "nbconvert_exporter": "python",
   "pygments_lexer": "ipython3",
   "version": "3.11.4"
  }
 },
 "nbformat": 4,
 "nbformat_minor": 5
}
